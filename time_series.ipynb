{
 "cells": [
  {
   "cell_type": "markdown",
   "metadata": {},
   "source": [
    "## Описание проекта\n",
    "\n",
    "Компания «Чётенькое такси» собрала исторические данные о заказах такси в аэропортах. Чтобы привлекать больше водителей в период пиковой нагрузки, нужно спрогнозировать количество заказов такси на следующий час. Постройте модель для такого предсказания.\n",
    "\n",
    "Значение метрики *RMSE* на тестовой выборке должно быть не больше 48.\n",
    "\n",
    "### Инструкция по выполнению проекта\n",
    "\n",
    "1. Загрузите данные и выполните их ресемплирование по одному часу.\n",
    "2. Проанализируйте данные.\n",
    "3. Обучите разные модели с различными гиперпараметрами. Сделайте тестовую выборку размером 10% от исходных данных.\n",
    "4. Проверьте данные на тестовой выборке и сделайте выводы.\n",
    "\n",
    "### Описание данных\n",
    "\n",
    "Данные лежат в файле `taxi.csv`. Количество заказов находится в столбце '*num_orders*' (от англ. *number of orders*, «число заказов»)."
   ]
  },
  {
   "cell_type": "markdown",
   "metadata": {},
   "source": [
    "### План решения:\n",
    "##### Часть 1. Подготовка данных:\n",
    "* [Подготовка данных]((#the_destination)) Загрузим датасет с атрибутами парсинга даты, даты будем использовать в качестве индекса нашей таблицы. Если индекс не монотонен, то отсортируем индексы с заменой в исходной таблице. Проверим таблицу на наличие дубликатов и пропущенные значения. Выполним ресемплирование данных по одному часу.  \n",
    "* [Анализ]((#2nd_chap)) Посмотрим график ряда, разберем тренды и сезонность данных.  \n",
    "* [Анализ результатов]((#3rd_chap)) Напишем функцию расчета rmse и используем её для создания собственного скорера. Создадим новый класс, создающий признаки для последующего гридсёрча. Поделим данные на обучающую и тестовую выборки, выберем наилучшую модель с помощью гридсёрча. "
   ]
  },
  {
   "cell_type": "markdown",
   "metadata": {},
   "source": [
    "<a id='the_destination'></a>\n",
    "# 1. Подготовка"
   ]
  },
  {
   "cell_type": "code",
   "execution_count": 1,
   "metadata": {},
   "outputs": [],
   "source": [
    "import pandas as pd\n",
    "import numpy as np\n",
    "from statsmodels.tsa.seasonal import seasonal_decompose\n",
    "import matplotlib.pyplot as plt\n",
    "from sklearn.model_selection import train_test_split, GridSearchCV, TimeSeriesSplit\n",
    "from sklearn.linear_model import LinearRegression, Ridge, Lasso\n",
    "from sklearn.metrics import mean_squared_error, make_scorer\n",
    "from sklearn.ensemble import RandomForestRegressor\n",
    "from collections import defaultdict\n",
    "from sklearn.base import TransformerMixin, BaseEstimator\n",
    "from sklearn.pipeline import Pipeline\n",
    "from lightgbm import LGBMRegressor"
   ]
  },
  {
   "cell_type": "code",
   "execution_count": 2,
   "metadata": {},
   "outputs": [],
   "source": [
    "if not taxi.index.is_monotonic:\n",
    "    taxi.sort_index(inplace=True)\n",
    "taxi = taxi.resample('1H').sum()\n"
   ]
  },
  {
   "cell_type": "code",
   "execution_count": 3,
   "metadata": {},
   "outputs": [
    {
     "data": {
      "text/html": [
       "<div>\n",
       "<style scoped>\n",
       "    .dataframe tbody tr th:only-of-type {\n",
       "        vertical-align: middle;\n",
       "    }\n",
       "\n",
       "    .dataframe tbody tr th {\n",
       "        vertical-align: top;\n",
       "    }\n",
       "\n",
       "    .dataframe thead th {\n",
       "        text-align: right;\n",
       "    }\n",
       "</style>\n",
       "<table border=\"1\" class=\"dataframe\">\n",
       "  <thead>\n",
       "    <tr style=\"text-align: right;\">\n",
       "      <th></th>\n",
       "      <th>num_orders</th>\n",
       "    </tr>\n",
       "    <tr>\n",
       "      <th>datetime</th>\n",
       "      <th></th>\n",
       "    </tr>\n",
       "  </thead>\n",
       "  <tbody>\n",
       "    <tr>\n",
       "      <td>2018-03-01 00:00:00</td>\n",
       "      <td>124</td>\n",
       "    </tr>\n",
       "    <tr>\n",
       "      <td>2018-03-01 01:00:00</td>\n",
       "      <td>85</td>\n",
       "    </tr>\n",
       "    <tr>\n",
       "      <td>2018-03-01 02:00:00</td>\n",
       "      <td>71</td>\n",
       "    </tr>\n",
       "    <tr>\n",
       "      <td>2018-03-01 03:00:00</td>\n",
       "      <td>66</td>\n",
       "    </tr>\n",
       "    <tr>\n",
       "      <td>2018-03-01 04:00:00</td>\n",
       "      <td>43</td>\n",
       "    </tr>\n",
       "    <tr>\n",
       "      <td>2018-03-01 05:00:00</td>\n",
       "      <td>6</td>\n",
       "    </tr>\n",
       "    <tr>\n",
       "      <td>2018-03-01 06:00:00</td>\n",
       "      <td>12</td>\n",
       "    </tr>\n",
       "    <tr>\n",
       "      <td>2018-03-01 07:00:00</td>\n",
       "      <td>15</td>\n",
       "    </tr>\n",
       "    <tr>\n",
       "      <td>2018-03-01 08:00:00</td>\n",
       "      <td>34</td>\n",
       "    </tr>\n",
       "    <tr>\n",
       "      <td>2018-03-01 09:00:00</td>\n",
       "      <td>69</td>\n",
       "    </tr>\n",
       "  </tbody>\n",
       "</table>\n",
       "</div>"
      ],
      "text/plain": [
       "                     num_orders\n",
       "datetime                       \n",
       "2018-03-01 00:00:00         124\n",
       "2018-03-01 01:00:00          85\n",
       "2018-03-01 02:00:00          71\n",
       "2018-03-01 03:00:00          66\n",
       "2018-03-01 04:00:00          43\n",
       "2018-03-01 05:00:00           6\n",
       "2018-03-01 06:00:00          12\n",
       "2018-03-01 07:00:00          15\n",
       "2018-03-01 08:00:00          34\n",
       "2018-03-01 09:00:00          69"
      ]
     },
     "execution_count": 3,
     "metadata": {},
     "output_type": "execute_result"
    }
   ],
   "source": [
    "taxi.head(10)"
   ]
  },
  {
   "cell_type": "code",
   "execution_count": 4,
   "metadata": {},
   "outputs": [
    {
     "data": {
      "text/plain": [
       "(4416, 1)"
      ]
     },
     "execution_count": 4,
     "metadata": {},
     "output_type": "execute_result"
    }
   ],
   "source": [
    "taxi.shape"
   ]
  },
  {
   "cell_type": "code",
   "execution_count": 5,
   "metadata": {},
   "outputs": [
    {
     "data": {
      "text/plain": [
       "num_orders    0\n",
       "dtype: int64"
      ]
     },
     "execution_count": 5,
     "metadata": {},
     "output_type": "execute_result"
    }
   ],
   "source": [
    "taxi.isna().sum()"
   ]
  },
  {
   "cell_type": "code",
   "execution_count": 6,
   "metadata": {},
   "outputs": [
    {
     "data": {
      "text/plain": [
       "(Timestamp('2018-03-01 00:00:00'), Timestamp('2018-08-31 23:00:00'))"
      ]
     },
     "execution_count": 6,
     "metadata": {},
     "output_type": "execute_result"
    }
   ],
   "source": [
    "taxi.index.min(), taxi.index.max()"
   ]
  },
  {
   "cell_type": "markdown",
   "metadata": {},
   "source": [
    "<a id='2nd_chap'></a>\n",
    "# 2. Анализ"
   ]
  },
  {
   "cell_type": "code",
   "execution_count": 7,
   "metadata": {},
   "outputs": [
    {
     "data": {
      "text/plain": [
       "<matplotlib.axes._subplots.AxesSubplot at 0x7f5e08713c90>"
      ]
     },
     "execution_count": 7,
     "metadata": {},
     "output_type": "execute_result"
    },
    {
     "data": {
      "image/png": "[encoded data removed]",
      "text/plain": [
       "<Figure size 432x288 with 1 Axes>"
      ]
     },
     "metadata": {
      "needs_background": "light"
     },
     "output_type": "display_data"
    }
   ],
   "source": [
    "taxi.plot()"
   ]
  },
  {
   "cell_type": "code",
   "execution_count": 8,
   "metadata": {},
   "outputs": [
    {
     "data": {
      "text/plain": [
       "<matplotlib.axes._subplots.AxesSubplot at 0x7f5e07f47b10>"
      ]
     },
     "execution_count": 8,
     "metadata": {},
     "output_type": "execute_result"
    },
    {
     "data": {
      "image/png": "[encoded data removed]",
      "text/plain": [
       "<Figure size 432x288 with 1 Axes>"
      ]
     },
     "metadata": {
      "needs_background": "light"
     },
     "output_type": "display_data"
    }
   ],
   "source": [
    "taxi.head(24*7).plot()"
   ]
  },
  {
   "cell_type": "code",
   "execution_count": 9,
   "metadata": {},
   "outputs": [
    {
     "data": {
      "text/plain": [
       "<matplotlib.axes._subplots.AxesSubplot at 0x7f5e07da4850>"
      ]
     },
     "execution_count": 9,
     "metadata": {},
     "output_type": "execute_result"
    },
    {
     "data": {
      "image/png": "[encoded data removed]",
      "text/plain": [
       "<Figure size 432x288 with 1 Axes>"
      ]
     },
     "metadata": {
      "needs_background": "light"
     },
     "output_type": "display_data"
    },
    {
     "data": {
      "image/png": "[encoded data removed]",
      "text/plain": [
       "<Figure size 432x288 with 1 Axes>"
      ]
     },
     "metadata": {
      "needs_background": "light"
     },
     "output_type": "display_data"
    },
    {
     "data": {
      "image/png": "[encoded data removed]",
      "text/plain": [
       "<Figure size 432x288 with 1 Axes>"
      ]
     },
     "metadata": {
      "needs_background": "light"
     },
     "output_type": "display_data"
    }
   ],
   "source": [
    "decomposed = seasonal_decompose(taxi)\n",
    "decomposed.trend.plot(title='Trend')\n",
    "decomposed.seasonal.head(24*7).plot(title='Seasonal')\n",
    "decomposed.resid.plot(title='Resid')"
   ]
  },
  {
   "cell_type": "markdown",
   "metadata": {},
   "source": [
    "#### Вывод:  \n",
    "* Ярко выражен тренд на увеличение количества заказов;  \n",
    "* Прослеживается сезонность в рамках суток."
   ]
  },
  {
   "cell_type": "code",
   "execution_count": null,
   "metadata": {},
   "outputs": [],
   "source": []
  },
  {
   "cell_type": "markdown",
   "metadata": {},
   "source": [
    "<a id='3кd_chap'></a>\n",
    "\n",
    "# 3. Обучение"
   ]
  },
  {
   "cell_type": "markdown",
   "metadata": {},
   "source": [
    "Напишем свою метрику качества по RMSE"
   ]
  },
  {
   "cell_type": "code",
   "execution_count": 10,
   "metadata": {},
   "outputs": [],
   "source": [
    "def root_mse(target_true, target_predicted):\n",
    "    return np.sqrt(mean_squared_error(target_true, target_predicted))"
   ]
  },
  {
   "cell_type": "code",
   "execution_count": 11,
   "metadata": {},
   "outputs": [],
   "source": [
    "rmse = make_scorer(root_mse, greater_is_better=False)"
   ]
  },
  {
   "cell_type": "markdown",
   "metadata": {},
   "source": [
    "Создадим свой класс дляя создания признаков, для последующего гридсёрча."
   ]
  },
  {
   "cell_type": "code",
   "execution_count": 12,
   "metadata": {},
   "outputs": [],
   "source": [
    "class FeatureMaker(BaseEstimator, TransformerMixin):\n",
    "    def __init__(self, max_lag, rolling_mean_size, target, year=True, month=True, day=True, dayofweek=True, hour=True, fillna=True):\n",
    "        self.max_lag = max_lag\n",
    "        self.rolling_mean_size = rolling_mean_size\n",
    "        self.year = year\n",
    "        self.month = month\n",
    "        self.day = day\n",
    "        self.dayofweek = dayofweek\n",
    "        self.hour=hour\n",
    "        self.fillna = fillna\n",
    "        self.target =target\n",
    "        \n",
    "        self.lag_ = defaultdict()\n",
    "    \n",
    "    \n",
    "# Перезапишем методы reset fit и transform класса TransformerMixin\n",
    "    def _reset(self):        \n",
    "        if hasattr(self, 'X_'):               \n",
    "            del self.X_\n",
    "            del self.y_\n",
    "            \n",
    "           \n",
    "    def fit(self, X, y=None):\n",
    "        self._reset()           \n",
    "        \n",
    "        \n",
    "        self.X_ = X.drop(columns=self.target)\n",
    "        self.y_ = X[self.target]\n",
    "        \n",
    "        return self\n",
    "    \n",
    "    def transform(self, X):\n",
    "        \n",
    "        tmp = X.copy()\n",
    "        \n",
    "        for l in range(self.max_lag):\n",
    "            tmp['lag_'+str(l)] = tmp[self.target].shift(l+1)\n",
    "            \n",
    "        tmp['rolling_mean'] = tmp[self.target].shift().rolling(self.rolling_mean_size).mean()\n",
    "        \n",
    "        if self.year:\n",
    "            tmp['year'] = X.index.year\n",
    "        if self.month:\n",
    "            tmp['month'] = X.index.month           \n",
    "        if self.day:\n",
    "            tmp['day'] = X.index.day\n",
    "        if self.dayofweek:\n",
    "            tmp['dayofweek'] = X.index.dayofweek\n",
    "        if self.hour:\n",
    "            tmp['hour'] = X.index.hour\n",
    "\n",
    "        \n",
    "        # dropna\n",
    "        indexes_to_drop = tmp.index[tmp.isnull().any(1)].tolist()\n",
    "        \n",
    "#         self.y_.drop(indexes_to_drop, inplace=True)\n",
    "#         tmp.dropna(inplace=True)\n",
    "        tmp.fillna(method='bfill', inplace=True)\n",
    "        \n",
    "        #drop target\n",
    "        tmp = tmp.drop(columns=self.target)\n",
    "        return tmp\n",
    "    "
   ]
  },
  {
   "cell_type": "code",
   "execution_count": 13,
   "metadata": {},
   "outputs": [
    {
     "data": {
      "text/html": [
       "<div>\n",
       "<style scoped>\n",
       "    .dataframe tbody tr th:only-of-type {\n",
       "        vertical-align: middle;\n",
       "    }\n",
       "\n",
       "    .dataframe tbody tr th {\n",
       "        vertical-align: top;\n",
       "    }\n",
       "\n",
       "    .dataframe thead th {\n",
       "        text-align: right;\n",
       "    }\n",
       "</style>\n",
       "<table border=\"1\" class=\"dataframe\">\n",
       "  <thead>\n",
       "    <tr style=\"text-align: right;\">\n",
       "      <th></th>\n",
       "      <th>lag_0</th>\n",
       "      <th>lag_1</th>\n",
       "      <th>lag_2</th>\n",
       "      <th>lag_3</th>\n",
       "      <th>rolling_mean</th>\n",
       "      <th>month</th>\n",
       "      <th>day</th>\n",
       "      <th>dayofweek</th>\n",
       "      <th>hour</th>\n",
       "    </tr>\n",
       "    <tr>\n",
       "      <th>datetime</th>\n",
       "      <th></th>\n",
       "      <th></th>\n",
       "      <th></th>\n",
       "      <th></th>\n",
       "      <th></th>\n",
       "      <th></th>\n",
       "      <th></th>\n",
       "      <th></th>\n",
       "      <th></th>\n",
       "    </tr>\n",
       "  </thead>\n",
       "  <tbody>\n",
       "    <tr>\n",
       "      <td>2018-03-01 00:00:00</td>\n",
       "      <td>124.0</td>\n",
       "      <td>124.0</td>\n",
       "      <td>124.0</td>\n",
       "      <td>124.0</td>\n",
       "      <td>93.333333</td>\n",
       "      <td>3</td>\n",
       "      <td>1</td>\n",
       "      <td>3</td>\n",
       "      <td>0</td>\n",
       "    </tr>\n",
       "    <tr>\n",
       "      <td>2018-03-01 01:00:00</td>\n",
       "      <td>124.0</td>\n",
       "      <td>124.0</td>\n",
       "      <td>124.0</td>\n",
       "      <td>124.0</td>\n",
       "      <td>93.333333</td>\n",
       "      <td>3</td>\n",
       "      <td>1</td>\n",
       "      <td>3</td>\n",
       "      <td>1</td>\n",
       "    </tr>\n",
       "  </tbody>\n",
       "</table>\n",
       "</div>"
      ],
      "text/plain": [
       "                     lag_0  lag_1  lag_2  lag_3  rolling_mean  month  day  \\\n",
       "datetime                                                                    \n",
       "2018-03-01 00:00:00  124.0  124.0  124.0  124.0     93.333333      3    1   \n",
       "2018-03-01 01:00:00  124.0  124.0  124.0  124.0     93.333333      3    1   \n",
       "\n",
       "                     dayofweek  hour  \n",
       "datetime                              \n",
       "2018-03-01 00:00:00          3     0  \n",
       "2018-03-01 01:00:00          3     1  "
      ]
     },
     "execution_count": 13,
     "metadata": {},
     "output_type": "execute_result"
    }
   ],
   "source": [
    "# Проверим, что методы нашего нового класса работают, так как ожидается\n",
    "maker = FeatureMaker(max_lag=4, rolling_mean_size=3, target='num_orders', year=False)\n",
    "\n",
    "X = taxi\n",
    "y = taxi['num_orders']\n",
    "\n",
    "maker.fit_transform(X).head(2)"
   ]
  },
  {
   "cell_type": "code",
   "execution_count": 14,
   "metadata": {},
   "outputs": [
    {
     "data": {
      "text/html": [
       "<div>\n",
       "<style scoped>\n",
       "    .dataframe tbody tr th:only-of-type {\n",
       "        vertical-align: middle;\n",
       "    }\n",
       "\n",
       "    .dataframe tbody tr th {\n",
       "        vertical-align: top;\n",
       "    }\n",
       "\n",
       "    .dataframe thead th {\n",
       "        text-align: right;\n",
       "    }\n",
       "</style>\n",
       "<table border=\"1\" class=\"dataframe\">\n",
       "  <thead>\n",
       "    <tr style=\"text-align: right;\">\n",
       "      <th></th>\n",
       "      <th>num_orders</th>\n",
       "    </tr>\n",
       "    <tr>\n",
       "      <th>datetime</th>\n",
       "      <th></th>\n",
       "    </tr>\n",
       "  </thead>\n",
       "  <tbody>\n",
       "    <tr>\n",
       "      <td>2018-03-01 00:00:00</td>\n",
       "      <td>124</td>\n",
       "    </tr>\n",
       "    <tr>\n",
       "      <td>2018-03-01 01:00:00</td>\n",
       "      <td>85</td>\n",
       "    </tr>\n",
       "    <tr>\n",
       "      <td>2018-03-01 02:00:00</td>\n",
       "      <td>71</td>\n",
       "    </tr>\n",
       "    <tr>\n",
       "      <td>2018-03-01 03:00:00</td>\n",
       "      <td>66</td>\n",
       "    </tr>\n",
       "    <tr>\n",
       "      <td>2018-03-01 04:00:00</td>\n",
       "      <td>43</td>\n",
       "    </tr>\n",
       "    <tr>\n",
       "      <td>...</td>\n",
       "      <td>...</td>\n",
       "    </tr>\n",
       "    <tr>\n",
       "      <td>2018-08-31 19:00:00</td>\n",
       "      <td>136</td>\n",
       "    </tr>\n",
       "    <tr>\n",
       "      <td>2018-08-31 20:00:00</td>\n",
       "      <td>154</td>\n",
       "    </tr>\n",
       "    <tr>\n",
       "      <td>2018-08-31 21:00:00</td>\n",
       "      <td>159</td>\n",
       "    </tr>\n",
       "    <tr>\n",
       "      <td>2018-08-31 22:00:00</td>\n",
       "      <td>223</td>\n",
       "    </tr>\n",
       "    <tr>\n",
       "      <td>2018-08-31 23:00:00</td>\n",
       "      <td>205</td>\n",
       "    </tr>\n",
       "  </tbody>\n",
       "</table>\n",
       "<p>4416 rows × 1 columns</p>\n",
       "</div>"
      ],
      "text/plain": [
       "                     num_orders\n",
       "datetime                       \n",
       "2018-03-01 00:00:00         124\n",
       "2018-03-01 01:00:00          85\n",
       "2018-03-01 02:00:00          71\n",
       "2018-03-01 03:00:00          66\n",
       "2018-03-01 04:00:00          43\n",
       "...                         ...\n",
       "2018-08-31 19:00:00         136\n",
       "2018-08-31 20:00:00         154\n",
       "2018-08-31 21:00:00         159\n",
       "2018-08-31 22:00:00         223\n",
       "2018-08-31 23:00:00         205\n",
       "\n",
       "[4416 rows x 1 columns]"
      ]
     },
     "execution_count": 14,
     "metadata": {},
     "output_type": "execute_result"
    }
   ],
   "source": [
    "### код ревьюера\n",
    "### исходная матрица\n",
    "X"
   ]
  },
  {
   "cell_type": "code",
   "execution_count": 15,
   "metadata": {},
   "outputs": [
    {
     "data": {
      "text/html": [
       "<div>\n",
       "<style scoped>\n",
       "    .dataframe tbody tr th:only-of-type {\n",
       "        vertical-align: middle;\n",
       "    }\n",
       "\n",
       "    .dataframe tbody tr th {\n",
       "        vertical-align: top;\n",
       "    }\n",
       "\n",
       "    .dataframe thead th {\n",
       "        text-align: right;\n",
       "    }\n",
       "</style>\n",
       "<table border=\"1\" class=\"dataframe\">\n",
       "  <thead>\n",
       "    <tr style=\"text-align: right;\">\n",
       "      <th></th>\n",
       "      <th>lag_0</th>\n",
       "      <th>lag_1</th>\n",
       "      <th>lag_2</th>\n",
       "      <th>lag_3</th>\n",
       "      <th>rolling_mean</th>\n",
       "      <th>month</th>\n",
       "      <th>day</th>\n",
       "      <th>dayofweek</th>\n",
       "      <th>hour</th>\n",
       "    </tr>\n",
       "    <tr>\n",
       "      <th>datetime</th>\n",
       "      <th></th>\n",
       "      <th></th>\n",
       "      <th></th>\n",
       "      <th></th>\n",
       "      <th></th>\n",
       "      <th></th>\n",
       "      <th></th>\n",
       "      <th></th>\n",
       "      <th></th>\n",
       "    </tr>\n",
       "  </thead>\n",
       "  <tbody>\n",
       "    <tr>\n",
       "      <td>2018-03-01 00:00:00</td>\n",
       "      <td>124.0</td>\n",
       "      <td>124.0</td>\n",
       "      <td>124.0</td>\n",
       "      <td>124.0</td>\n",
       "      <td>93.333333</td>\n",
       "      <td>3</td>\n",
       "      <td>1</td>\n",
       "      <td>3</td>\n",
       "      <td>0</td>\n",
       "    </tr>\n",
       "    <tr>\n",
       "      <td>2018-03-01 01:00:00</td>\n",
       "      <td>124.0</td>\n",
       "      <td>124.0</td>\n",
       "      <td>124.0</td>\n",
       "      <td>124.0</td>\n",
       "      <td>93.333333</td>\n",
       "      <td>3</td>\n",
       "      <td>1</td>\n",
       "      <td>3</td>\n",
       "      <td>1</td>\n",
       "    </tr>\n",
       "    <tr>\n",
       "      <td>2018-03-01 02:00:00</td>\n",
       "      <td>85.0</td>\n",
       "      <td>124.0</td>\n",
       "      <td>124.0</td>\n",
       "      <td>124.0</td>\n",
       "      <td>93.333333</td>\n",
       "      <td>3</td>\n",
       "      <td>1</td>\n",
       "      <td>3</td>\n",
       "      <td>2</td>\n",
       "    </tr>\n",
       "    <tr>\n",
       "      <td>2018-03-01 03:00:00</td>\n",
       "      <td>71.0</td>\n",
       "      <td>85.0</td>\n",
       "      <td>124.0</td>\n",
       "      <td>124.0</td>\n",
       "      <td>93.333333</td>\n",
       "      <td>3</td>\n",
       "      <td>1</td>\n",
       "      <td>3</td>\n",
       "      <td>3</td>\n",
       "    </tr>\n",
       "    <tr>\n",
       "      <td>2018-03-01 04:00:00</td>\n",
       "      <td>66.0</td>\n",
       "      <td>71.0</td>\n",
       "      <td>85.0</td>\n",
       "      <td>124.0</td>\n",
       "      <td>74.000000</td>\n",
       "      <td>3</td>\n",
       "      <td>1</td>\n",
       "      <td>3</td>\n",
       "      <td>4</td>\n",
       "    </tr>\n",
       "    <tr>\n",
       "      <td>...</td>\n",
       "      <td>...</td>\n",
       "      <td>...</td>\n",
       "      <td>...</td>\n",
       "      <td>...</td>\n",
       "      <td>...</td>\n",
       "      <td>...</td>\n",
       "      <td>...</td>\n",
       "      <td>...</td>\n",
       "      <td>...</td>\n",
       "    </tr>\n",
       "    <tr>\n",
       "      <td>2018-08-31 19:00:00</td>\n",
       "      <td>207.0</td>\n",
       "      <td>217.0</td>\n",
       "      <td>197.0</td>\n",
       "      <td>116.0</td>\n",
       "      <td>207.000000</td>\n",
       "      <td>8</td>\n",
       "      <td>31</td>\n",
       "      <td>4</td>\n",
       "      <td>19</td>\n",
       "    </tr>\n",
       "    <tr>\n",
       "      <td>2018-08-31 20:00:00</td>\n",
       "      <td>136.0</td>\n",
       "      <td>207.0</td>\n",
       "      <td>217.0</td>\n",
       "      <td>197.0</td>\n",
       "      <td>186.666667</td>\n",
       "      <td>8</td>\n",
       "      <td>31</td>\n",
       "      <td>4</td>\n",
       "      <td>20</td>\n",
       "    </tr>\n",
       "    <tr>\n",
       "      <td>2018-08-31 21:00:00</td>\n",
       "      <td>154.0</td>\n",
       "      <td>136.0</td>\n",
       "      <td>207.0</td>\n",
       "      <td>217.0</td>\n",
       "      <td>165.666667</td>\n",
       "      <td>8</td>\n",
       "      <td>31</td>\n",
       "      <td>4</td>\n",
       "      <td>21</td>\n",
       "    </tr>\n",
       "    <tr>\n",
       "      <td>2018-08-31 22:00:00</td>\n",
       "      <td>159.0</td>\n",
       "      <td>154.0</td>\n",
       "      <td>136.0</td>\n",
       "      <td>207.0</td>\n",
       "      <td>149.666667</td>\n",
       "      <td>8</td>\n",
       "      <td>31</td>\n",
       "      <td>4</td>\n",
       "      <td>22</td>\n",
       "    </tr>\n",
       "    <tr>\n",
       "      <td>2018-08-31 23:00:00</td>\n",
       "      <td>223.0</td>\n",
       "      <td>159.0</td>\n",
       "      <td>154.0</td>\n",
       "      <td>136.0</td>\n",
       "      <td>178.666667</td>\n",
       "      <td>8</td>\n",
       "      <td>31</td>\n",
       "      <td>4</td>\n",
       "      <td>23</td>\n",
       "    </tr>\n",
       "  </tbody>\n",
       "</table>\n",
       "<p>4416 rows × 9 columns</p>\n",
       "</div>"
      ],
      "text/plain": [
       "                     lag_0  lag_1  lag_2  lag_3  rolling_mean  month  day  \\\n",
       "datetime                                                                    \n",
       "2018-03-01 00:00:00  124.0  124.0  124.0  124.0     93.333333      3    1   \n",
       "2018-03-01 01:00:00  124.0  124.0  124.0  124.0     93.333333      3    1   \n",
       "2018-03-01 02:00:00   85.0  124.0  124.0  124.0     93.333333      3    1   \n",
       "2018-03-01 03:00:00   71.0   85.0  124.0  124.0     93.333333      3    1   \n",
       "2018-03-01 04:00:00   66.0   71.0   85.0  124.0     74.000000      3    1   \n",
       "...                    ...    ...    ...    ...           ...    ...  ...   \n",
       "2018-08-31 19:00:00  207.0  217.0  197.0  116.0    207.000000      8   31   \n",
       "2018-08-31 20:00:00  136.0  207.0  217.0  197.0    186.666667      8   31   \n",
       "2018-08-31 21:00:00  154.0  136.0  207.0  217.0    165.666667      8   31   \n",
       "2018-08-31 22:00:00  159.0  154.0  136.0  207.0    149.666667      8   31   \n",
       "2018-08-31 23:00:00  223.0  159.0  154.0  136.0    178.666667      8   31   \n",
       "\n",
       "                     dayofweek  hour  \n",
       "datetime                              \n",
       "2018-03-01 00:00:00          3     0  \n",
       "2018-03-01 01:00:00          3     1  \n",
       "2018-03-01 02:00:00          3     2  \n",
       "2018-03-01 03:00:00          3     3  \n",
       "2018-03-01 04:00:00          3     4  \n",
       "...                        ...   ...  \n",
       "2018-08-31 19:00:00          4    19  \n",
       "2018-08-31 20:00:00          4    20  \n",
       "2018-08-31 21:00:00          4    21  \n",
       "2018-08-31 22:00:00          4    22  \n",
       "2018-08-31 23:00:00          4    23  \n",
       "\n",
       "[4416 rows x 9 columns]"
      ]
     },
     "execution_count": 15,
     "metadata": {},
     "output_type": "execute_result"
    }
   ],
   "source": [
    "### код ревьюера\n",
    "### матрица признаков\n",
    "X_new = maker.fit_transform(X)\n",
    "X_new"
   ]
  },
  {
   "cell_type": "code",
   "execution_count": 16,
   "metadata": {},
   "outputs": [
    {
     "data": {
      "text/plain": [
       "((4416, 1), (4416,))"
      ]
     },
     "execution_count": 16,
     "metadata": {},
     "output_type": "execute_result"
    }
   ],
   "source": [
    "X.shape, y.shape"
   ]
  },
  {
   "cell_type": "code",
   "execution_count": 17,
   "metadata": {},
   "outputs": [],
   "source": [
    "# Разделим данные на обучающую и тестовую выборки.\n",
    "X_train, X_test, y_train, y_test = train_test_split(X, y, shuffle=False, test_size=0.1)"
   ]
  },
  {
   "cell_type": "code",
   "execution_count": 18,
   "metadata": {},
   "outputs": [
    {
     "data": {
      "text/plain": [
       "((442, 1), (3974, 1), (3974,), (442,))"
      ]
     },
     "execution_count": 18,
     "metadata": {},
     "output_type": "execute_result"
    }
   ],
   "source": [
    "X_test.shape, X_train.shape, y_train.shape, y_test.shape"
   ]
  },
  {
   "cell_type": "code",
   "execution_count": null,
   "metadata": {},
   "outputs": [],
   "source": []
  },
  {
   "cell_type": "code",
   "execution_count": 19,
   "metadata": {},
   "outputs": [],
   "source": [
    "# Проведём гридсёрч моделей: Ridge, RandomForest, LighGBM и обычную линейную регрессию\n",
    "# подготовим параметры\n",
    "pipeline = Pipeline([\n",
    "    ('maker', FeatureMaker(24, 5, 'num_orders', year=False, fillna=True)),\n",
    "    ('model', RandomForestRegressor(n_estimators=100, random_state=12345))\n",
    "])"
   ]
  },
  {
   "cell_type": "code",
   "execution_count": 20,
   "metadata": {},
   "outputs": [],
   "source": [
    "cat_cols = ['month', 'day', 'dayofweek', 'hour']"
   ]
  },
  {
   "cell_type": "code",
   "execution_count": 21,
   "metadata": {},
   "outputs": [],
   "source": [
    "params = [\n",
    "    {\n",
    "        'maker__max_lag': [24, 48, 168],\n",
    "        'maker__rolling_mean_size' : [5, 7, 10, 20],\n",
    "        'model': [RandomForestRegressor(n_estimators=100, random_state=12345)],\n",
    "        'model__max_features': np.linspace(0.1, 1, 5)    \n",
    "    },\n",
    "    {\n",
    "        'maker__max_lag': [24, 48, 168],\n",
    "        'maker__rolling_mean_size': [5, 10, 20],\n",
    "        'model': [Ridge(random_state=12345)],\n",
    "        'model__alpha': np.logspace(-3, 1, 5)\n",
    "    },\n",
    "    {\n",
    "        'maker__max_lag': [24, 48, 168],\n",
    "        'maker__rolling_mean_size': [5, 10, 20],\n",
    "        'model': [LGBMRegressor(boosting_type='gbdt', verbose=0, random_state=12345, n_estimators=100)],\n",
    "        'model__num_leaves': [20, 31, 40],\n",
    "        'model__max_depth': [-1, 10, 20],\n",
    "        'model__learning_rate': [0.08, 0.1, 0.12]\n",
    "    },\n",
    "    {\n",
    "        'maker__max_lag': [24, 48, 168],\n",
    "        'maker__rolling_mean_size': [5, 10, 20],\n",
    "        'model': [LinearRegression()],\n",
    "    }\n",
    "]"
   ]
  },
  {
   "cell_type": "code",
   "execution_count": 22,
   "metadata": {},
   "outputs": [],
   "source": [
    "cv = TimeSeriesSplit(n_splits=2)"
   ]
  },
  {
   "cell_type": "code",
   "execution_count": 23,
   "metadata": {},
   "outputs": [],
   "source": [
    "grid = GridSearchCV(pipeline, param_grid=params, scoring=rmse, cv=cv, verbose=True)"
   ]
  },
  {
   "cell_type": "code",
   "execution_count": 24,
   "metadata": {},
   "outputs": [
    {
     "name": "stdout",
     "output_type": "stream",
     "text": [
      "Fitting 2 folds for each of 357 candidates, totalling 714 fits\n"
     ]
    },
    {
     "name": "stderr",
     "output_type": "stream",
     "text": [
      "[Parallel(n_jobs=1)]: Using backend SequentialBackend with 1 concurrent workers.\n",
      "[Parallel(n_jobs=1)]: Done 714 out of 714 | elapsed: 115.3min finished\n"
     ]
    },
    {
     "name": "stdout",
     "output_type": "stream",
     "text": [
      "CPU times: user 1h 53min, sys: 1min 12s, total: 1h 54min 12s\n",
      "Wall time: 1h 55min 20s\n"
     ]
    },
    {
     "data": {
      "text/plain": [
       "GridSearchCV(cv=TimeSeriesSplit(max_train_size=None, n_splits=2),\n",
       "             error_score='raise-deprecating',\n",
       "             estimator=Pipeline(memory=None,\n",
       "                                steps=[('maker',\n",
       "                                        FeatureMaker(day=True, dayofweek=True,\n",
       "                                                     fillna=True, hour=True,\n",
       "                                                     max_lag=24, month=True,\n",
       "                                                     rolling_mean_size=5,\n",
       "                                                     target='num_orders',\n",
       "                                                     year=False)),\n",
       "                                       ('model',\n",
       "                                        RandomForestRegressor(bootstrap=True,\n",
       "                                                              criterion='mse',\n",
       "                                                              max_depth=N...\n",
       "                          'model__learning_rate': [0.08, 0.1, 0.12],\n",
       "                          'model__max_depth': [-1, 10, 20],\n",
       "                          'model__num_leaves': [20, 31, 40]},\n",
       "                         {'maker__max_lag': [24, 48, 168],\n",
       "                          'maker__rolling_mean_size': [5, 10, 20],\n",
       "                          'model': [LinearRegression(copy_X=True,\n",
       "                                                     fit_intercept=True,\n",
       "                                                     n_jobs=None,\n",
       "                                                     normalize=False)]}],\n",
       "             pre_dispatch='2*n_jobs', refit=True, return_train_score=False,\n",
       "             scoring=make_scorer(root_mse, greater_is_better=False),\n",
       "             verbose=True)"
      ]
     },
     "execution_count": 24,
     "metadata": {},
     "output_type": "execute_result"
    }
   ],
   "source": [
    "%%time\n",
    "grid.fit(X_train, y_train)"
   ]
  },
  {
   "cell_type": "code",
   "execution_count": 25,
   "metadata": {},
   "outputs": [
    {
     "data": {
      "text/plain": [
       "(-24.021583615739008,\n",
       " {'maker__max_lag': 168,\n",
       "  'maker__rolling_mean_size': 20,\n",
       "  'model': LinearRegression(copy_X=True, fit_intercept=True, n_jobs=None, normalize=False)})"
      ]
     },
     "execution_count": 25,
     "metadata": {},
     "output_type": "execute_result"
    }
   ],
   "source": [
    "grid.best_score_, grid.best_params_"
   ]
  },
  {
   "cell_type": "markdown",
   "metadata": {},
   "source": [
    "#### Вывод: \n",
    "Лучший результат на обучающей выборке показала модель Линейной регрессии."
   ]
  },
  {
   "cell_type": "markdown",
   "metadata": {},
   "source": [
    "# 4. Тестирование"
   ]
  },
  {
   "cell_type": "code",
   "execution_count": 26,
   "metadata": {},
   "outputs": [
    {
     "data": {
      "text/plain": [
       "41.334933337825575"
      ]
     },
     "execution_count": 26,
     "metadata": {},
     "output_type": "execute_result"
    }
   ],
   "source": [
    "# Проверим лучшую модель на тестовой выборке\n",
    "model = grid.best_estimator_\n",
    "model.fit(X_train, y_train)\n",
    "root_mse(y_test, model.predict(X_test))"
   ]
  },
  {
   "cell_type": "markdown",
   "metadata": {},
   "source": [
    "#### Вывод:  \n",
    "* RMSE на тестовой выборке у лучшей модели обучающей выборки получилось равным 40.08, что нам и требовалось :)  "
   ]
  }
 ],
 "metadata": {
  "kernelspec": {
   "display_name": "Python 3",
   "language": "python",
   "name": "python3"
  },
  "language_info": {
   "codemirror_mode": {
    "name": "ipython",
    "version": 3
   },
   "file_extension": ".py",
   "mimetype": "text/x-python",
   "name": "python",
   "nbconvert_exporter": "python",
   "pygments_lexer": "ipython3",
   "version": "3.7.2"
  }
 },
 "nbformat": 4,
 "nbformat_minor": 2
}
